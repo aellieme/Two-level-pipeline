{
 "cells": [
  {
   "cell_type": "markdown",
   "metadata": {},
   "source": [
    "Двухуровневый пайплайн"
   ]
  },
  {
   "cell_type": "code",
   "execution_count": null,
   "metadata": {
    "execution": {
     "iopub.execute_input": "2025-04-07T18:38:11.756124Z",
     "iopub.status.busy": "2025-04-07T18:38:11.755648Z",
     "iopub.status.idle": "2025-04-07T18:38:11.914641Z",
     "shell.execute_reply": "2025-04-07T18:38:11.913473Z",
     "shell.execute_reply.started": "2025-04-07T18:38:11.756091Z"
    },
    "id": "5JopATK5eDiy",
    "trusted": true
   },
   "outputs": [],
   "source": [
    "import numpy as np\n",
    "import pandas as pd\n",
    "import torch\n",
    "import torch.nn as nn\n",
    "import torch.optim as optim\n",
    "import pickle\n",
    "import os\n",
    "\n",
    "from sklearn.metrics.pairwise import cosine_similarity\n",
    "\n",
    "from tqdm import tqdm\n",
    "from tqdm import trange\n",
    "from scipy.sparse import csr_matrix\n",
    "from scipy.sparse import coo_matrix\n",
    "from sklearn.preprocessing import normalize, LabelEncoder\n",
    "from sklearn.preprocessing import MinMaxScaler\n",
    "from sklearn.decomposition import TruncatedSVD\n",
    "from typing import List\n",
    "\n",
    "from torch.utils.data import DataLoader, Dataset, TensorDataset\n",
    "\n",
    "from catboost import CatBoostRanker, Pool\n",
    "import random"
   ]
  },
  {
   "cell_type": "code",
   "execution_count": 2,
   "metadata": {
    "execution": {
     "iopub.execute_input": "2025-04-07T08:13:03.155217Z",
     "iopub.status.busy": "2025-04-07T08:13:03.154651Z",
     "iopub.status.idle": "2025-04-07T08:13:03.163787Z",
     "shell.execute_reply": "2025-04-07T08:13:03.162525Z",
     "shell.execute_reply.started": "2025-04-07T08:13:03.155181Z"
    },
    "id": "VycQXmYMd4f-",
    "trusted": true
   },
   "outputs": [],
   "source": [
    "device = 'cuda' if torch.cuda.is_available() else 'cpu'"
   ]
  },
  {
   "cell_type": "code",
   "execution_count": null,
   "metadata": {
    "execution": {
     "iopub.execute_input": "2025-04-06T18:03:31.719918Z",
     "iopub.status.busy": "2025-04-06T18:03:31.719491Z",
     "iopub.status.idle": "2025-04-06T18:03:31.734833Z",
     "shell.execute_reply": "2025-04-06T18:03:31.733670Z",
     "shell.execute_reply.started": "2025-04-06T18:03:31.719867Z"
    },
    "id": "McPHjgkzC2QF",
    "trusted": true
   },
   "outputs": [],
   "source": [
    "# скачиваем данные\n",
    "# если из этой ячейки не получается, то вот ссылка на папку https://drive.google.com/drive/folders/1HT0Apm8Jft0VPLJtdBBUGu9s1M7vZcoJ?usp=drive_link\n",
    "\n",
    "!pip3 install gdown\n",
    "\n",
    "\n",
    "import gdown\n",
    "# train\n",
    "url = \"https://drive.google.com/file/d/1-CcS22-UpTJeNcFlA0dVLrEQn8jnI0d-/view?usp=drive_link\"\n",
    "output = 'df_train.csv'\n",
    "gdown.download(url, output, quiet=False)\n",
    "\n",
    "# test\n",
    "url = \"https://drive.google.com/file/d/11iz3xDh0IIoEIBY0dyRSvByY3qfiT3BG/view?usp=drive_link\"\n",
    "output = 'df_test.csv'\n",
    "gdown.download(url, output, quiet=False)\n",
    "\n",
    "# users, items\n",
    "users = pd.read_csv('/kaggle/input/recsyshw3/users.csv')\n",
    "items = pd.read_csv('/kaggle/input/recsyshw3/items.csv')\n",
    "\n",
    "users.to_csv('users.csv', index=False)\n",
    "items.to_csv('items.csv', index=False)\n",
    "df_train = pd.read_csv('df_train.csv')\n",
    "df_test = pd.read_csv('df_test.csv')"
   ]
  },
  {
   "cell_type": "markdown",
   "metadata": {
    "id": "k3M05hs6Nbp9"
   },
   "source": [
    "### Этап 1 - предобработка и обучение модели"
   ]
  },
  {
   "cell_type": "code",
   "execution_count": 77,
   "metadata": {
    "colab": {
     "base_uri": "https://localhost:8080/"
    },
    "collapsed": true,
    "execution": {
     "iopub.execute_input": "2025-04-07T19:41:17.585673Z",
     "iopub.status.busy": "2025-04-07T19:41:17.585109Z",
     "iopub.status.idle": "2025-04-07T19:41:37.088382Z",
     "shell.execute_reply": "2025-04-07T19:41:37.086855Z",
     "shell.execute_reply.started": "2025-04-07T19:41:17.585634Z"
    },
    "id": "wu3BE7T9FROf",
    "jupyter": {
     "outputs_hidden": true
    },
    "outputId": "d9cdb6d6-c136-45f2-878a-f87a652f852f",
    "trusted": true
   },
   "outputs": [],
   "source": [
    "df_train['last_watch_dt'] = pd.to_datetime(df_train['last_watch_dt'])\n",
    "\n",
    "value_counts = df_train['item_id'].value_counts()\n",
    "filtered_values = value_counts[value_counts > 2].index\n",
    "df_train = df_train[df_train['item_id'].isin(filtered_values)].copy()\n",
    "\n",
    "last_date = df_train['last_watch_dt'].max()\n",
    "start_date = last_date - pd.Timedelta(days=30)\n",
    "\n",
    "valid_stage_1 = df_train[(df_train['last_watch_dt'] >= start_date) & (df_train['last_watch_dt'] <= last_date)]\n",
    "train_stage_1 = df_train[~df_train.index.isin(valid_stage_1.index)]\n",
    "\n",
    "train_users = train_stage_1['user_id'].unique()\n",
    "train_items = train_stage_1['item_id'].unique()\n",
    "\n",
    "valid_stage_1 = valid_stage_1[valid_stage_1['user_id'].isin(train_users) & valid_stage_1['item_id'].isin(train_items)]\n",
    "\n",
    "user_le = LabelEncoder()\n",
    "item_le = LabelEncoder()\n",
    "\n",
    "train_stage_1['user_id'] = user_le.fit_transform(train_stage_1['user_id'])\n",
    "train_stage_1['item_id'] = item_le.fit_transform(train_stage_1['item_id'])\n",
    "\n",
    "valid_stage_1['user_id'] = user_le.transform(valid_stage_1['user_id'])\n",
    "valid_stage_1['item_id'] = item_le.transform(valid_stage_1['item_id'])\n",
    "\n",
    "train_stage_1.to_csv('train_stage_1.csv', index=False)\n",
    "valid_stage_1.to_csv('valid_stage_1.csv', index=False)\n",
    "train_stage_1 = pd.read_csv('/kaggle/input/recsyshw3/train_stage_1.csv')\n",
    "valid_stage_1 = pd.read_csv('/kaggle/input/recsyshw3/valid_stage_1.csv')"
   ]
  },
  {
   "cell_type": "code",
   "execution_count": null,
   "metadata": {
    "execution": {
     "iopub.status.busy": "2025-04-06T18:03:31.921996Z",
     "iopub.status.idle": "2025-04-06T18:03:31.922363Z",
     "shell.execute_reply": "2025-04-06T18:03:31.922228Z"
    },
    "id": "Jqm2aUDhAzlq",
    "trusted": true
   },
   "outputs": [],
   "source": [
    "df_test['last_watch_dt'] = pd.to_datetime(df_test['last_watch_dt'])\n",
    "\n",
    "value_counts = df_train['item_id'].value_counts()\n",
    "filtered_values = value_counts[value_counts > 2].index\n",
    "test_prepr = df_test[df_test['item_id'].isin(filtered_values)].copy()\n",
    "\n",
    "user_le = LabelEncoder()\n",
    "item_le = LabelEncoder()\n",
    "\n",
    "test_prepr['user_id'] = user_le.fit_transform(test_prepr['user_id'])\n",
    "test_prepr['item_id'] = item_le.fit_transform(test_prepr['item_id'])\n",
    "\n",
    "test_prepr.to_csv('test_prepr.csv', index=False)"
   ]
  },
  {
   "cell_type": "markdown",
   "metadata": {
    "id": "2C-7ikP88o0Y"
   },
   "source": [
    "###  ALS"
   ]
  },
  {
   "cell_type": "code",
   "execution_count": 44,
   "metadata": {
    "colab": {
     "base_uri": "https://localhost:8080/"
    },
    "execution": {
     "iopub.execute_input": "2025-04-07T18:39:42.283892Z",
     "iopub.status.busy": "2025-04-07T18:39:42.283440Z",
     "iopub.status.idle": "2025-04-07T18:39:49.249050Z",
     "shell.execute_reply": "2025-04-07T18:39:49.247525Z",
     "shell.execute_reply.started": "2025-04-07T18:39:42.283861Z"
    },
    "id": "HfzflpEb_1VG",
    "outputId": "6f715bb8-9070-4154-f076-644b0edbba36",
    "trusted": true
   },
   "outputs": [
    {
     "name": "stdout",
     "output_type": "stream",
     "text": [
      "Requirement already satisfied: tqdm in /usr/local/lib/python3.10/dist-packages (4.67.1)\n"
     ]
    }
   ],
   "source": [
    "!pip install tqdm"
   ]
  },
  {
   "cell_type": "code",
   "execution_count": null,
   "metadata": {
    "execution": {
     "iopub.execute_input": "2025-04-07T19:45:41.661442Z",
     "iopub.status.busy": "2025-04-07T19:45:41.660887Z",
     "iopub.status.idle": "2025-04-07T19:45:41.678269Z",
     "shell.execute_reply": "2025-04-07T19:45:41.676196Z",
     "shell.execute_reply.started": "2025-04-07T19:45:41.661402Z"
    },
    "id": "qTAGKInr8rR5",
    "trusted": true
   },
   "outputs": [],
   "source": [
    "class ALS():\n",
    "\n",
    "  def __init__(self, rank=5, lambda_reg=0.01, max_epochs = 10, tolerance=1e-3):\n",
    "    self.rank = rank\n",
    "    self.lambda_reg = lambda_reg\n",
    "    self.max_epochs = max_epochs\n",
    "    self.tolerance = tolerance\n",
    "\n",
    "    self.U = None\n",
    "    self.V = None\n",
    "    self.num_users = None\n",
    "    self.num_items = None\n",
    "    self.prev_rmse = float('inf')\n",
    "\n",
    "  def fit(self, train_stage_1):\n",
    "    user_ids = train_stage_1[\"user_id\"].astype(\"category\").cat.codes\n",
    "    item_ids = train_stage_1[\"item_id\"].astype(\"category\").cat.codes\n",
    "    weights = train_stage_1[\"target\"].astype(np.float32)\n",
    "\n",
    "    R = coo_matrix((weights, (user_ids, item_ids)))\n",
    "    num_users, num_items = R.shape\n",
    "    self.num_users = num_users\n",
    "    self.num_items = num_items\n",
    "\n",
    "    np.random.seed(42)\n",
    "    U = np.random.rand(num_users, self.rank)\n",
    "    V = np.random.rand(num_items, self.rank)\n",
    "    self.U = U\n",
    "    self.V = V\n",
    "\n",
    "    for epoch in trange(self.max_epochs, desc=\"Training ALS\"):\n",
    "        user_indices = {}\n",
    "        ratings = {}\n",
    "\n",
    "        # обновление U\n",
    "        movie_indices = {}\n",
    "        ratings = {}\n",
    "\n",
    "        for i, j, r in zip(R.row, R.col, R.data):\n",
    "\n",
    "            if i not in movie_indices:\n",
    "                movie_indices[i] = []\n",
    "                ratings[i] = []\n",
    "            movie_indices[i].append(j)\n",
    "            ratings[i].append(r)\n",
    "\n",
    "        for user_id, indices in movie_indices.items():\n",
    "            V_selected = V[indices]\n",
    "            user_ratings = np.array(ratings[user_id])\n",
    "            I =  np.eye(self.rank)\n",
    "            first_param = (V_selected.T @ V_selected + self.lambda_reg * I)\n",
    "            second_param = (V_selected.T @ user_ratings)\n",
    "            U[user_id] = np.linalg.solve(first_param, second_param)\n",
    "\n",
    "        # обновление V\n",
    "        user_indices = {}\n",
    "        ratings = {}\n",
    "\n",
    "        for i, j, r in zip(R.row, R.col, R.data):\n",
    "\n",
    "            if j not in user_indices:\n",
    "                user_indices[j] = []\n",
    "                ratings[j] = []\n",
    "            user_indices[j].append(i)\n",
    "            ratings[j].append(r)\n",
    "\n",
    "        for item_id, indices in user_indices.items():\n",
    "            U_selected = U[indices]\n",
    "            user_ratings = np.array(ratings[item_id])\n",
    "            I =  np.eye(self.rank)\n",
    "            first_param = (U_selected.T @ U_selected + self.lambda_reg * I)\n",
    "            second_param = (U_selected.T @ user_ratings)\n",
    "            V[item_id] = np.linalg.solve(first_param, second_param)\n",
    "\n",
    "        current_rmse = self.RMSE(R)\n",
    "\n",
    "        if abs(current_rmse - self.prev_rmse) <= self.tolerance:\n",
    "            break\n",
    "        self.prev_rmse = current_rmse\n",
    "        self.U = U\n",
    "        self.V = V\n",
    "\n",
    "  def predict_score(self, user_id, item_id):\n",
    "    score = self.U[user_id]  @ self.V[item_id]\n",
    "    return score\n",
    "\n",
    "  def recommend_topk(self, user_id, top_k ):\n",
    "    scores = self.U[user_id] @ self.V.T\n",
    "    top_k_recommendations = np.argsort(-scores)[:top_k]\n",
    "    return top_k_recommendations\n",
    "\n",
    "  def RMSE(self, R):\n",
    "    squared_errors = []\n",
    "\n",
    "    for i, j, r in zip(R.row, R.col, R.data):\n",
    "        pred_rating = self.U[i] @ self.V[j].T\n",
    "        squared_errors.append((r - pred_rating) ** 2)\n",
    "\n",
    "    return np.sqrt(np.mean(squared_errors))\n"
   ]
  },
  {
   "cell_type": "code",
   "execution_count": 82,
   "metadata": {
    "execution": {
     "iopub.execute_input": "2025-04-07T19:45:59.201827Z",
     "iopub.status.busy": "2025-04-07T19:45:59.201367Z",
     "iopub.status.idle": "2025-04-07T19:45:59.206924Z",
     "shell.execute_reply": "2025-04-07T19:45:59.205602Z",
     "shell.execute_reply.started": "2025-04-07T19:45:59.201793Z"
    },
    "id": "q38tKreSkKG9",
    "trusted": true
   },
   "outputs": [],
   "source": [
    "model = ALS(rank = 5,lambda_reg=0.01, max_epochs=10, tolerance=1e-4)"
   ]
  },
  {
   "cell_type": "code",
   "execution_count": 46,
   "metadata": {
    "colab": {
     "base_uri": "https://localhost:8080/"
    },
    "execution": {
     "iopub.execute_input": "2025-04-07T16:34:04.622895Z",
     "iopub.status.busy": "2025-04-07T16:34:04.622542Z",
     "iopub.status.idle": "2025-04-07T16:39:39.126346Z",
     "shell.execute_reply": "2025-04-07T16:39:39.124952Z",
     "shell.execute_reply.started": "2025-04-07T16:34:04.622868Z"
    },
    "id": "v5Z9TzVzBtgV",
    "outputId": "0de80012-8b3c-41b4-ed44-d7960b32be13",
    "trusted": true
   },
   "outputs": [
    {
     "name": "stderr",
     "output_type": "stream",
     "text": [
      "Training ALS: 100%|██████████| 10/10 [05:33<00:00, 33.34s/it]\n"
     ]
    }
   ],
   "source": [
    "model.fit(train_stage_1)"
   ]
  },
  {
   "cell_type": "code",
   "execution_count": null,
   "metadata": {
    "colab": {
     "base_uri": "https://localhost:8080/"
    },
    "execution": {
     "iopub.execute_input": "2025-04-07T16:46:34.794411Z",
     "iopub.status.busy": "2025-04-07T16:46:34.793970Z",
     "iopub.status.idle": "2025-04-07T16:46:34.803259Z",
     "shell.execute_reply": "2025-04-07T16:46:34.801700Z",
     "shell.execute_reply.started": "2025-04-07T16:46:34.794376Z"
    },
    "id": "oqtO0nStuH21",
    "outputId": "e4e1ff8f-cae8-4aea-c9af-fa20af132464",
    "trusted": true
   },
   "outputs": [
    {
     "name": "stdout",
     "output_type": "stream",
     "text": [
      "Recommendations for user 4 (top 5 ) :\n",
      "[1998 5793 3908 6708 6219]\n"
     ]
    }
   ],
   "source": [
    "user_id = 4\n",
    "top_k = 5\n",
    "\n",
    "top_als_items = model.recommend_topk(user_id, top_k)\n",
    "print(\"Recommendations for user\", user_id, \"(top\",top_k,\") :\")\n",
    "print(top_als_items)"
   ]
  },
  {
   "cell_type": "code",
   "execution_count": 16,
   "metadata": {
    "colab": {
     "base_uri": "https://localhost:8080/"
    },
    "execution": {
     "iopub.execute_input": "2025-04-07T09:15:03.330667Z",
     "iopub.status.busy": "2025-04-07T09:15:03.330249Z",
     "iopub.status.idle": "2025-04-07T09:15:03.358666Z",
     "shell.execute_reply": "2025-04-07T09:15:03.356805Z",
     "shell.execute_reply.started": "2025-04-07T09:15:03.330631Z"
    },
    "id": "WteM6Csy0n0C",
    "outputId": "b324a58f-f618-4fc7-a096-4d6a457f0fb1",
    "trusted": true
   },
   "outputs": [
    {
     "name": "stdout",
     "output_type": "stream",
     "text": [
      "cкор 3 юзера c 13 айтемом =  82.93586275466636\n"
     ]
    }
   ],
   "source": [
    "user_id = 3\n",
    "item_id = 13\n",
    "prediceted_score = model.predict_score(user_id, item_id)\n",
    "print(\"cкор\",user_id, \"юзера c\", item_id, \"айтемом = \",  prediceted_score)"
   ]
  },
  {
   "cell_type": "code",
   "execution_count": null,
   "metadata": {
    "execution": {
     "iopub.execute_input": "2025-04-07T08:18:54.505955Z",
     "iopub.status.busy": "2025-04-07T08:18:54.505597Z",
     "iopub.status.idle": "2025-04-07T08:18:54.570598Z",
     "shell.execute_reply": "2025-04-07T08:18:54.569290Z",
     "shell.execute_reply.started": "2025-04-07T08:18:54.505923Z"
    },
    "trusted": true
   },
   "outputs": [],
   "source": [
    "with open('als_model_5_epochs.pkl', 'wb') as f:\n",
    "    pickle.dump(model, f)\n"
   ]
  },
  {
   "cell_type": "code",
   "execution_count": null,
   "metadata": {
    "collapsed": true,
    "execution": {
     "iopub.execute_input": "2025-04-07T08:18:55.670599Z",
     "iopub.status.busy": "2025-04-07T08:18:55.670218Z",
     "iopub.status.idle": "2025-04-07T08:18:55.741078Z",
     "shell.execute_reply": "2025-04-07T08:18:55.739492Z",
     "shell.execute_reply.started": "2025-04-07T08:18:55.670570Z"
    },
    "jupyter": {
     "outputs_hidden": true
    },
    "trusted": true
   },
   "outputs": [],
   "source": [
    "with open('/kaggle/working/als_model.pkl', 'rb') as f:\n",
    "    als_model = pickle.load(f)\n"
   ]
  },
  {
   "cell_type": "markdown",
   "metadata": {
    "id": "GnNUrDHzC2QI"
   },
   "source": [
    "\n",
    "### 2 Этап. Генерация и сборка признаков. \n"
   ]
  },
  {
   "cell_type": "markdown",
   "metadata": {
    "id": "HZIdj8AgDoNx"
   },
   "source": [
    "### Работа с датой:"
   ]
  },
  {
   "cell_type": "code",
   "execution_count": null,
   "metadata": {
    "execution": {
     "iopub.execute_input": "2025-04-07T09:15:03.361049Z",
     "iopub.status.busy": "2025-04-07T09:15:03.360648Z",
     "iopub.status.idle": "2025-04-07T09:15:06.273381Z",
     "shell.execute_reply": "2025-04-07T09:15:06.271321Z",
     "shell.execute_reply.started": "2025-04-07T09:15:03.361015Z"
    },
    "id": "8-EuItXFDuPV",
    "trusted": true
   },
   "outputs": [],
   "source": [
    "test = pd.read_csv('/kaggle/input/recsyshw3/test_prepr.csv')\n",
    "valid_stage_1['last_watch_dt'] = pd.to_datetime(valid_stage_1['last_watch_dt'], errors='coerce')\n",
    "train_stage_1['last_watch_dt'] = pd.to_datetime(train_stage_1['last_watch_dt'], errors='coerce')\n",
    "\n",
    "valid_stage_1 = valid_stage_1.sort_values(by='last_watch_dt')\n",
    "train_stage_1 = train_stage_1.sort_values(by='last_watch_dt')\n",
    "\n",
    "test['last_watch_dt'] = pd.to_datetime(test['last_watch_dt'], errors='coerce')\n",
    "test = test.sort_values(by='last_watch_dt')\n",
    "\n",
    "merged_users = valid_stage_1.merge(users, on=\"user_id\")\n",
    "merged_df = merged_users.merge(items, on=\"item_id\")\n",
    "\n",
    "merged_users_test = test.merge(users, on=\"user_id\")\n",
    "merged_df_test = merged_users_test.merge(items, on=\"item_id\")"
   ]
  },
  {
   "cell_type": "markdown",
   "metadata": {
    "id": "KmIpqiN-Ehtg"
   },
   "source": [
    "### Все признаки:"
   ]
  },
  {
   "cell_type": "code",
   "execution_count": 20,
   "metadata": {
    "execution": {
     "iopub.execute_input": "2025-04-07T08:19:36.631891Z",
     "iopub.status.busy": "2025-04-07T08:19:36.631542Z",
     "iopub.status.idle": "2025-04-07T08:19:36.641398Z",
     "shell.execute_reply": "2025-04-07T08:19:36.640158Z",
     "shell.execute_reply.started": "2025-04-07T08:19:36.631864Z"
    },
    "id": "Nx8Wjp5NFe3I",
    "trusted": true
   },
   "outputs": [],
   "source": [
    "def calculate_features_up_to_day(day, train_data):\n",
    "    data_up_to_day = train_data[train_data['last_watch_dt'] < day]\n",
    "\n",
    "    avg_watched_pct = data_up_to_day.groupby('user_id')['watched_pct'].mean().fillna(0)# признак юзера\n",
    "\n",
    "    avg_dur = data_up_to_day.groupby('user_id')['total_dur'].mean().fillna(0)#признак юзера\n",
    "\n",
    "    item_avg_pct = data_up_to_day.groupby('item_id')['watched_pct'].mean().fillna(0)#признак айтема\n",
    "\n",
    "    data_up_to_day['film_age_at_watch'] = data_up_to_day['last_watch_dt'].dt.year - data_up_to_day['release_year']#признак айтема\n",
    "\n",
    "    data_up_to_day = data_up_to_day.assign(country=train_data[train_data['last_watch_dt'] < day]['countries'].str.split(', ').str[0])\n",
    "    country_ratio = (\n",
    "        data_up_to_day.groupby(['user_id', 'country'])['item_id'].transform('count')\n",
    "        / data_up_to_day.groupby('user_id')['item_id'].transform('count')\n",
    "    ).fillna(0)\n",
    "    user_country_pct = country_ratio.fillna(0) #доля просмотров пользователем фильмов этой страны (юзер-айтем)\n",
    "\n",
    "    age_counts = (\n",
    "        data_up_to_day[~data_up_to_day['age'].isna()]\n",
    "        .groupby(['item_id', 'age'])\n",
    "        .size()\n",
    "        .reset_index(name='count')\n",
    "    )\n",
    "    most_common_age = (\n",
    "        age_counts\n",
    "        .sort_values('count', ascending=False)\n",
    "        .drop_duplicates('item_id')\n",
    "        .set_index('item_id')['age']\n",
    "    )\n",
    "    item_mode_age = data_up_to_day['item_id'].map(most_common_age) #самая частая возрастная категория зрителя у фильма (юзер-айтем)\n",
    "\n",
    "    user_age_matches_items = (data_up_to_day['age'] == item_mode_age).astype(int) #совпадает ли возрастная категория пользователя с наиб частой категорией, смотрящей этот фильм (юзер-айтем)\n",
    "\n",
    "    data_up_to_day['is_old_film'] = (data_up_to_day['film_age_at_watch'] > 20).astype(int)  # старше ли фильм 20 лет (айтем)\n",
    "\n",
    "    user_old_film_pct = data_up_to_day.groupby('user_id')['is_old_film'].transform('mean') #доля просмотренных юзером  фильмов, которые старше 20 лет (юзер-айтем)\n",
    "\n",
    "    usr_like_old_flms = (user_old_film_pct > 0.5).astype(int) #предпочитает ли юзер старые (старше 20 лет) фильмы (юзер-айтем)\n",
    "\n",
    "    user_item_interaction_count = (\n",
    "        data_up_to_day.groupby(['user_id', 'item_id'])\n",
    "        .size()\n",
    "        .reset_index(name='user_item_interaction_count')  #сколько раз юзер смотрел этот фильм (юзер-айтем)\n",
    "    )\n",
    "\n",
    "    return avg_watched_pct, avg_dur, item_avg_pct, data_up_to_day['film_age_at_watch'], user_country_pct, item_mode_age, user_age_matches_items, data_up_to_day['is_old_film'], user_old_film_pct, usr_like_old_flms, user_item_interaction_count"
   ]
  },
  {
   "cell_type": "code",
   "execution_count": null,
   "metadata": {
    "_kg_hide-input": true,
    "colab": {
     "base_uri": "https://localhost:8080/"
    },
    "id": "_W9qSyAXHNYF",
    "outputId": "647e9cbf-2067-43fc-f8fe-ea4531ae12ee",
    "trusted": true
   },
   "outputs": [],
   "source": [
    "tqdm.pandas()\n",
    "merged_features = []\n",
    "\n",
    "for day in tqdm(valid_stage_1['last_watch_dt'].unique(), desc=\"Processing days\"):\n",
    "    avg_watched_pct, avg_dur, item_avg_pct, film_age_at_watch, user_country_pct, item_mode_age, user_age_matches_items, is_old_film, user_old_film_pct, usr_like_old_flms, user_item_interaction_count = calculate_features_up_to_day(day, merged_df)\n",
    "\n",
    "    day_features = valid_stage_1[valid_stage_1['last_watch_dt'] == day].copy()\n",
    "\n",
    "    day_features['average_watched_pct'] = day_features['user_id'].map(avg_watched_pct)\n",
    "    day_features['average_dur'] = day_features['user_id'].map(avg_dur)\n",
    "    day_features['item_avg_pct'] = day_features['item_id'].map(item_avg_pct)\n",
    "    day_features['film_age_at_watch'] = day_features['user_id'].map(film_age_at_watch)\n",
    "    day_features['user_country_pct'] = day_features['user_id'].map(user_country_pct)\n",
    "    day_features['item_mode_age'] = day_features['item_id'].map(item_mode_age)\n",
    "    day_features['user_age_matches_items'] = day_features['user_id'].map(user_age_matches_items)\n",
    "    day_features['is_old_film'] = day_features['user_id'].map(is_old_film)\n",
    "    day_features['user_old_film_pct'] = day_features['user_id'].map(user_old_film_pct)\n",
    "    day_features['usr_like_old_flms'] = day_features['user_id'].map(usr_like_old_flms)\n",
    "\n",
    "    day_features['user_item_interaction_count'] = day_features.apply(\n",
    "        lambda x: user_item_interaction_count[\n",
    "            (user_item_interaction_count['user_id'] == x['user_id']) &\n",
    "            (user_item_interaction_count['item_id'] == x['item_id'])\n",
    "        ]['user_item_interaction_count'].values[0] if not user_item_interaction_count[\n",
    "            (user_item_interaction_count['user_id'] == x['user_id']) &\n",
    "            (user_item_interaction_count['item_id'] == x['item_id'])\n",
    "        ].empty else 0, axis=1\n",
    "    )\n",
    "\n",
    "    merged_features.append(day_features)\n",
    "\n",
    "train_df_with_features = pd.concat(merged_features, axis=0)\n"
   ]
  },
  {
   "cell_type": "code",
   "execution_count": null,
   "metadata": {
    "colab": {
     "base_uri": "https://localhost:8080/"
    },
    "execution": {
     "iopub.execute_input": "2025-04-07T08:34:18.963130Z",
     "iopub.status.busy": "2025-04-07T08:34:18.962822Z",
     "iopub.status.idle": "2025-04-07T08:41:17.373840Z",
     "shell.execute_reply": "2025-04-07T08:41:17.372575Z",
     "shell.execute_reply.started": "2025-04-07T08:34:18.963091Z"
    },
    "id": "SK7JI_sxQfO3",
    "outputId": "9ea0701a-1f09-4d81-9c02-695c61deef20",
    "trusted": true
   },
   "outputs": [
    {
     "name": "stderr",
     "output_type": "stream",
     "text": [
      "Processing days: 100%|██████████| 31/31 [06:58<00:00, 13.49s/it]\n"
     ]
    }
   ],
   "source": [
    "merged_features_test = []\n",
    "\n",
    "for day in tqdm(valid_stage_1['last_watch_dt'].unique(), desc=\"Processing days\"):\n",
    "    avg_watched_pct, avg_dur, item_avg_pct, film_age_at_watch, user_country_pct, item_mode_age, user_age_matches_items, is_old_film, user_old_film_pct, usr_like_old_flms, user_item_interaction_count = calculate_features_up_to_day(day, merged_df_test)\n",
    "\n",
    "    day_features = valid_stage_1[valid_stage_1['last_watch_dt'] == day].copy()\n",
    "\n",
    "    day_features['average_watched_pct'] = day_features['user_id'].map(avg_watched_pct)\n",
    "    day_features['average_dur'] = day_features['user_id'].map(avg_dur)\n",
    "    day_features['item_avg_pct'] = day_features['item_id'].map(item_avg_pct)\n",
    "    day_features['film_age_at_watch'] = day_features['user_id'].map(film_age_at_watch)\n",
    "    day_features['user_country_pct'] = day_features['user_id'].map(user_country_pct)\n",
    "    day_features['item_mode_age'] = day_features['item_id'].map(item_mode_age)\n",
    "    day_features['user_age_matches_items'] = day_features['user_id'].map(user_age_matches_items)\n",
    "    day_features['is_old_film'] = day_features['user_id'].map(is_old_film)\n",
    "    day_features['user_old_film_pct'] = day_features['user_id'].map(user_old_film_pct)\n",
    "    day_features['usr_like_old_flms'] = day_features['user_id'].map(usr_like_old_flms)\n",
    "\n",
    "    day_features['user_item_interaction_count'] = day_features.apply(\n",
    "        lambda x: user_item_interaction_count[\n",
    "            (user_item_interaction_count['user_id'] == x['user_id']) &\n",
    "            (user_item_interaction_count['item_id'] == x['item_id'])\n",
    "        ]['user_item_interaction_count'].values[0] if not user_item_interaction_count[\n",
    "            (user_item_interaction_count['user_id'] == x['user_id']) &\n",
    "            (user_item_interaction_count['item_id'] == x['item_id'])\n",
    "        ].empty else 0, axis=1\n",
    "    )\n",
    "\n",
    "    merged_features_test.append(day_features)\n",
    "\n",
    "test_df_with_features = pd.concat(merged_features_test, axis=0)"
   ]
  },
  {
   "cell_type": "code",
   "execution_count": 24,
   "metadata": {
    "execution": {
     "iopub.execute_input": "2025-04-07T08:41:17.376399Z",
     "iopub.status.busy": "2025-04-07T08:41:17.376001Z",
     "iopub.status.idle": "2025-04-07T08:41:30.472080Z",
     "shell.execute_reply": "2025-04-07T08:41:30.470937Z",
     "shell.execute_reply.started": "2025-04-07T08:41:17.376360Z"
    },
    "id": "jkjJ9FaHVE_i",
    "trusted": true
   },
   "outputs": [],
   "source": [
    "train_df_with_features.to_csv(\"train_df_with_features.csv\")\n",
    "test_df_with_features.to_csv(\"test_df_with_features.csv\")"
   ]
  },
  {
   "cell_type": "code",
   "execution_count": 23,
   "metadata": {
    "colab": {
     "base_uri": "https://localhost:8080/"
    },
    "execution": {
     "iopub.execute_input": "2025-04-07T09:24:49.457245Z",
     "iopub.status.busy": "2025-04-07T09:24:49.456549Z",
     "iopub.status.idle": "2025-04-07T09:24:51.992020Z",
     "shell.execute_reply": "2025-04-07T09:24:51.990941Z",
     "shell.execute_reply.started": "2025-04-07T09:24:49.457208Z"
    },
    "id": "54ldZVtflv4m",
    "outputId": "4cd0bafb-e906-47fd-adee-3f1d9d708de2",
    "trusted": true
   },
   "outputs": [
    {
     "name": "stderr",
     "output_type": "stream",
     "text": [
      "<ipython-input-23-af4053d7cf94>:1: DtypeWarning: Columns (12) have mixed types. Specify dtype option on import or set low_memory=False.\n",
      "  train_df_with_features = pd.read_csv(\"/kaggle/working/train_df_with_features.csv\")\n"
     ]
    }
   ],
   "source": [
    "train_df_with_features = pd.read_csv(\"/kaggle/working/train_df_with_features.csv\")\n",
    "test_df_with_features = pd.read_csv(\"/kaggle/working/test_df_with_features.csv\")"
   ]
  },
  {
   "cell_type": "markdown",
   "metadata": {
    "id": "MIR65nkPC2QJ"
   },
   "source": [
    "\n",
    "### 3 Этап. Обучение финального ранкера \n",
    "В этом этапе будет обучаться ранкер. В качестве ранкера используется [catboost](https://catboost.ai/)\n",
    "\n",
    "\n",
    "\n"
   ]
  },
  {
   "cell_type": "code",
   "execution_count": null,
   "metadata": {
    "colab": {
     "base_uri": "https://localhost:8080/"
    },
    "collapsed": true,
    "execution": {
     "iopub.execute_input": "2025-04-07T19:25:32.243173Z",
     "iopub.status.busy": "2025-04-07T19:25:32.242772Z",
     "iopub.status.idle": "2025-04-07T19:25:47.184609Z",
     "shell.execute_reply": "2025-04-07T19:25:47.183303Z",
     "shell.execute_reply.started": "2025-04-07T19:25:32.243140Z"
    },
    "id": "J5FV3Hahohkp",
    "jupyter": {
     "outputs_hidden": true
    },
    "outputId": "347350dd-22ea-434d-b216-f20a6c83a046",
    "trusted": true
   },
   "outputs": [],
   "source": [
    "!pip install catboost\n",
    "!pip install shap\n",
    "!pip install ipywidgets"
   ]
  },
  {
   "cell_type": "markdown",
   "metadata": {
    "id": "GWH4LrcHfF0v"
   },
   "source": [
    "Для начала вычислим скоры между всеми юзерами и айтемами"
   ]
  },
  {
   "cell_type": "code",
   "execution_count": 25,
   "metadata": {
    "execution": {
     "iopub.execute_input": "2025-04-07T09:25:15.879634Z",
     "iopub.status.busy": "2025-04-07T09:25:15.879214Z",
     "iopub.status.idle": "2025-04-07T09:25:17.940661Z",
     "shell.execute_reply": "2025-04-07T09:25:17.939251Z",
     "shell.execute_reply.started": "2025-04-07T09:25:15.879600Z"
    },
    "id": "1f5Y1PqUfFSH",
    "trusted": true
   },
   "outputs": [],
   "source": [
    "als_scores = []\n",
    "for user_id, item_id in zip(train_df_with_features['user_id'], train_df_with_features['item_id']):\n",
    "    score = model.predict_score(user_id, item_id)\n",
    "    als_scores.append(score)\n",
    "\n",
    "train_df_with_features['als_score'] = als_scores"
   ]
  },
  {
   "cell_type": "code",
   "execution_count": null,
   "metadata": {
    "trusted": true
   },
   "outputs": [],
   "source": [
    "train_df_with_features = train_df_with_features.sample(frac=0.23, random_state=42)"
   ]
  },
  {
   "cell_type": "code",
   "execution_count": 27,
   "metadata": {
    "execution": {
     "iopub.execute_input": "2025-04-07T09:25:27.223835Z",
     "iopub.status.busy": "2025-04-07T09:25:27.223404Z",
     "iopub.status.idle": "2025-04-07T09:25:27.255128Z",
     "shell.execute_reply": "2025-04-07T09:25:27.253596Z",
     "shell.execute_reply.started": "2025-04-07T09:25:27.223802Z"
    },
    "id": "BEB9sfzKbJpp",
    "trusted": true
   },
   "outputs": [],
   "source": [
    "max_score = train_df_with_features['als_score'].max()\n",
    "\n",
    "categories = [\n",
    "    (train_df_with_features['als_score'] >= 0) & (train_df_with_features['als_score'] < 0.001 * max_score),\n",
    "    (train_df_with_features['als_score'] >= 0.001 * max_score) & (train_df_with_features['als_score'] < 0.008 * max_score),\n",
    "    (train_df_with_features['als_score'] >= 0.008 * max_score) & (train_df_with_features['als_score'] < 0.015 * max_score),\n",
    "    (train_df_with_features['als_score'] >= 0.015 * max_score) & (train_df_with_features['als_score'] < 0.04 * max_score),\n",
    "    (train_df_with_features['als_score'] >= 0.04 * max_score) & (train_df_with_features['als_score'] < 0.07 * max_score),\n",
    "    (train_df_with_features['als_score'] >= 0.07 * max_score) & (train_df_with_features['als_score'] < 0.6 * max_score),\n",
    "    (train_df_with_features['als_score'] >= 0.6 * max_score)\n",
    "]\n",
    "\n",
    "\n",
    "choices = [0, 1, 2, 3, 4, 5, 6]\n",
    "\n",
    "train_df_with_features['category of als'] = np.select(categories, choices, default = 1)\n"
   ]
  },
  {
   "cell_type": "code",
   "execution_count": 28,
   "metadata": {
    "execution": {
     "iopub.execute_input": "2025-04-07T09:25:43.508499Z",
     "iopub.status.busy": "2025-04-07T09:25:43.508050Z",
     "iopub.status.idle": "2025-04-07T09:25:43.612839Z",
     "shell.execute_reply": "2025-04-07T09:25:43.611616Z",
     "shell.execute_reply.started": "2025-04-07T09:25:43.508458Z"
    },
    "trusted": true
   },
   "outputs": [],
   "source": [
    "X_train = train_df_with_features.copy()\n",
    "y_train = X_train['item_id']\n",
    "group_train = train_df_with_features['category of als']\n",
    "X_train = X_train.drop(['item_id'], axis = 1)\n",
    "X_train = X_train.drop(['category of als'], axis = 1)\n",
    "\n",
    "X_valid = test_df_with_features.copy()"
   ]
  },
  {
   "cell_type": "code",
   "execution_count": 29,
   "metadata": {
    "execution": {
     "iopub.execute_input": "2025-04-07T09:25:48.817520Z",
     "iopub.status.busy": "2025-04-07T09:25:48.817093Z",
     "iopub.status.idle": "2025-04-07T09:25:49.006602Z",
     "shell.execute_reply": "2025-04-07T09:25:49.005296Z",
     "shell.execute_reply.started": "2025-04-07T09:25:48.817482Z"
    },
    "id": "4PsQsZYG-csK",
    "trusted": true
   },
   "outputs": [
    {
     "name": "stdout",
     "output_type": "stream",
     "text": [
      "category of als\n",
      "3    55636\n",
      "4    54303\n",
      "1    33956\n",
      "2    14582\n",
      "5    10288\n",
      "0    10168\n",
      "6        7\n",
      "Name: count, dtype: int64\n"
     ]
    }
   ],
   "source": [
    "cat_features = [ \"item_mode_age\", \"last_watch_dt\"]\n",
    "\n",
    "X_train[cat_features] = X_train[cat_features].fillna(\"nan\").astype(str)\n",
    "X_valid[cat_features] = X_valid[cat_features].fillna(\"nan\").astype(str)\n",
    "\n",
    "group_sizes = group_train.value_counts()\n",
    "print(group_sizes)\n"
   ]
  },
  {
   "cell_type": "code",
   "execution_count": 30,
   "metadata": {
    "execution": {
     "iopub.execute_input": "2025-04-07T09:25:52.360823Z",
     "iopub.status.busy": "2025-04-07T09:25:52.360300Z",
     "iopub.status.idle": "2025-04-07T09:25:52.446731Z",
     "shell.execute_reply": "2025-04-07T09:25:52.445547Z",
     "shell.execute_reply.started": "2025-04-07T09:25:52.360786Z"
    },
    "id": "tbqdB534xmoS",
    "trusted": true
   },
   "outputs": [],
   "source": [
    "train_sorted = X_train.copy()\n",
    "train_sorted['item_id'] = y_train\n",
    "train_sorted['category of als'] = group_train\n",
    "\n",
    "train_sorted = train_sorted.sort_values(by='category of als').reset_index(drop=True)"
   ]
  },
  {
   "cell_type": "code",
   "execution_count": 31,
   "metadata": {
    "execution": {
     "iopub.execute_input": "2025-04-07T09:25:54.984858Z",
     "iopub.status.busy": "2025-04-07T09:25:54.984457Z",
     "iopub.status.idle": "2025-04-07T09:25:54.997946Z",
     "shell.execute_reply": "2025-04-07T09:25:54.996953Z",
     "shell.execute_reply.started": "2025-04-07T09:25:54.984823Z"
    },
    "id": "-CeZbGrjx4mR",
    "trusted": true
   },
   "outputs": [],
   "source": [
    "y_train = train_sorted['item_id']\n",
    "group_train = train_sorted['category of als']\n",
    "X_train = train_sorted.drop(['item_id', 'category of als'], axis=1)"
   ]
  },
  {
   "cell_type": "code",
   "execution_count": null,
   "metadata": {
    "trusted": true
   },
   "outputs": [],
   "source": [
    "train_pool = Pool(\n",
    "    data=X_train,\n",
    "    label=y_train,\n",
    "    group_id=group_train,\n",
    "    cat_features= [\"item_mode_age\", \"last_watch_dt\"]\n",
    ")\n",
    "\n",
    "catboost_model = CatBoostRanker(\n",
    "    iterations=30,            \n",
    "    depth=3,                   \n",
    "    learning_rate=0.1,         \n",
    "    loss_function='YetiRank', \n",
    "    cat_features=cat_features,\n",
    "    thread_count=2,           \n",
    "    verbose=10\n",
    ")\n"
   ]
  },
  {
   "cell_type": "code",
   "execution_count": 44,
   "metadata": {
    "execution": {
     "iopub.execute_input": "2025-04-07T10:42:38.779674Z",
     "iopub.status.busy": "2025-04-07T10:42:38.779255Z",
     "iopub.status.idle": "2025-04-07T11:14:26.918676Z",
     "shell.execute_reply": "2025-04-07T11:14:26.917520Z",
     "shell.execute_reply.started": "2025-04-07T10:42:38.779642Z"
    },
    "trusted": true
   },
   "outputs": [
    {
     "name": "stdout",
     "output_type": "stream",
     "text": [
      "Groupwise loss function. OneHotMaxSize set to 10\n",
      "0:\ttotal: 1m 5s\tremaining: 31m 53s\n",
      "10:\ttotal: 11m 42s\tremaining: 20m 13s\n",
      "20:\ttotal: 22m 18s\tremaining: 9m 33s\n",
      "29:\ttotal: 31m 47s\tremaining: 0us\n"
     ]
    },
    {
     "data": {
      "text/plain": [
       "<catboost.core.CatBoostRanker at 0x7d446beee170>"
      ]
     },
     "execution_count": 44,
     "metadata": {},
     "output_type": "execute_result"
    }
   ],
   "source": [
    "catboost_model.fit(train_pool, early_stopping_rounds=10)"
   ]
  },
  {
   "cell_type": "code",
   "execution_count": null,
   "metadata": {
    "execution": {
     "iopub.execute_input": "2025-04-07T11:38:57.893713Z",
     "iopub.status.busy": "2025-04-07T11:38:57.893250Z",
     "iopub.status.idle": "2025-04-07T11:38:57.901488Z",
     "shell.execute_reply": "2025-04-07T11:38:57.900396Z",
     "shell.execute_reply.started": "2025-04-07T11:38:57.893679Z"
    },
    "trusted": true
   },
   "outputs": [],
   "source": [
    "missing_cols = set(X_train.columns) - set(X_valid.columns)\n",
    "for col in missing_cols:\n",
    "    X_valid[col] = 0  \n"
   ]
  },
  {
   "cell_type": "code",
   "execution_count": 55,
   "metadata": {
    "execution": {
     "iopub.execute_input": "2025-04-07T11:39:04.172532Z",
     "iopub.status.busy": "2025-04-07T11:39:04.172096Z",
     "iopub.status.idle": "2025-04-07T11:39:04.179060Z",
     "shell.execute_reply": "2025-04-07T11:39:04.177733Z",
     "shell.execute_reply.started": "2025-04-07T11:39:04.172494Z"
    },
    "trusted": true
   },
   "outputs": [
    {
     "name": "stdout",
     "output_type": "stream",
     "text": [
      "['Unnamed: 0', 'user_id', 'last_watch_dt', 'total_dur', 'watched_pct', 'target', 'average_watched_pct', 'average_dur', 'item_avg_pct', 'film_age_at_watch', 'user_country_pct', 'item_mode_age', 'user_age_matches_items', 'is_old_film', 'user_old_film_pct', 'usr_like_old_flms', 'user_item_interaction_count', 'als_score']\n",
      "['Unnamed: 0', 'user_id', 'item_id', 'last_watch_dt', 'total_dur', 'watched_pct', 'target', 'average_watched_pct', 'average_dur', 'item_avg_pct', 'film_age_at_watch', 'user_country_pct', 'item_mode_age', 'user_age_matches_items', 'is_old_film', 'user_old_film_pct', 'usr_like_old_flms', 'user_item_interaction_count', 'als_score']\n"
     ]
    }
   ],
   "source": [
    "print(X_train.columns.tolist())\n",
    "print(X_valid.columns.tolist())\n"
   ]
  },
  {
   "cell_type": "code",
   "execution_count": 56,
   "metadata": {
    "execution": {
     "iopub.execute_input": "2025-04-07T11:39:25.275432Z",
     "iopub.status.busy": "2025-04-07T11:39:25.275020Z",
     "iopub.status.idle": "2025-04-07T11:39:25.678820Z",
     "shell.execute_reply": "2025-04-07T11:39:25.677740Z",
     "shell.execute_reply.started": "2025-04-07T11:39:25.275385Z"
    },
    "trusted": true
   },
   "outputs": [],
   "source": [
    "X_valid[\"last_watch_dt\"] = X_valid[\"last_watch_dt\"].astype(str)\n",
    "X_train[\"last_watch_dt\"] = X_train[\"last_watch_dt\"].astype(str)\n",
    "\n",
    "valid_pool = Pool(\n",
    "    data=X_valid,\n",
    "    cat_features= [\"item_mode_age\", \"last_watch_dt\"]\n",
    ")\n",
    "\n",
    "y_pred = catboost_model.predict(valid_pool)\n"
   ]
  },
  {
   "cell_type": "code",
   "execution_count": 57,
   "metadata": {
    "execution": {
     "iopub.execute_input": "2025-04-07T11:39:39.171475Z",
     "iopub.status.busy": "2025-04-07T11:39:39.171055Z",
     "iopub.status.idle": "2025-04-07T11:39:39.179275Z",
     "shell.execute_reply": "2025-04-07T11:39:39.178384Z",
     "shell.execute_reply.started": "2025-04-07T11:39:39.171441Z"
    },
    "trusted": true
   },
   "outputs": [
    {
     "data": {
      "text/plain": [
       "array([ 0.10708463,  0.04753156,  0.23612031, ...,  0.12047248,\n",
       "       -0.00994404,  0.08351953])"
      ]
     },
     "execution_count": 57,
     "metadata": {},
     "output_type": "execute_result"
    }
   ],
   "source": [
    "y_pred\n"
   ]
  },
  {
   "cell_type": "code",
   "execution_count": 41,
   "metadata": {
    "execution": {
     "iopub.execute_input": "2025-04-07T10:40:42.847133Z",
     "iopub.status.busy": "2025-04-07T10:40:42.846653Z",
     "iopub.status.idle": "2025-04-07T10:40:42.861622Z",
     "shell.execute_reply": "2025-04-07T10:40:42.860326Z",
     "shell.execute_reply.started": "2025-04-07T10:40:42.847095Z"
    },
    "trusted": true
   },
   "outputs": [
    {
     "name": "stdout",
     "output_type": "stream",
     "text": [
      "0: Unnamed: 0\n",
      "1: user_id\n",
      "2: item_id\n",
      "3: last_watch_dt\n",
      "4: total_dur\n",
      "5: watched_pct\n",
      "6: target\n",
      "7: average_watched_pct\n",
      "8: average_dur\n",
      "9: item_avg_pct\n",
      "10: film_age_at_watch\n",
      "11: user_country_pct\n",
      "12: item_mode_age\n",
      "13: user_age_matches_items\n",
      "14: is_old_film\n",
      "15: user_old_film_pct\n",
      "16: usr_like_old_flms\n",
      "17: user_item_interaction_count\n"
     ]
    }
   ],
   "source": [
    "for i, col in enumerate(X_valid.columns):\n",
    "    print(f\"{i}: {col}\")\n"
   ]
  },
  {
   "cell_type": "code",
   "execution_count": null,
   "metadata": {
    "execution": {
     "iopub.status.busy": "2025-04-07T19:25:47.230985Z",
     "iopub.status.idle": "2025-04-07T19:25:47.231356Z",
     "shell.execute_reply": "2025-04-07T19:25:47.231179Z"
    },
    "trusted": true
   },
   "outputs": [],
   "source": [
    "\n",
    "catboost_model.save_model('ranker_model.cbm')\n",
    "\n",
    "ranker_loaded = CatBoostRanker()\n",
    "ranker_loaded.load_model('/kaggle/input/catboost/other/default/1')\n"
   ]
  },
  {
   "cell_type": "markdown",
   "metadata": {},
   "source": [
    "# SHAP - анализ"
   ]
  },
  {
   "cell_type": "code",
   "execution_count": null,
   "metadata": {},
   "outputs": [],
   "source": [
    "import shap"
   ]
  },
  {
   "cell_type": "code",
   "execution_count": null,
   "metadata": {
    "execution": {
     "iopub.execute_input": "2025-04-07T11:44:31.326500Z",
     "iopub.status.busy": "2025-04-07T11:44:31.326041Z",
     "iopub.status.idle": "2025-04-07T11:46:17.425532Z",
     "shell.execute_reply": "2025-04-07T11:46:17.416796Z",
     "shell.execute_reply.started": "2025-04-07T11:44:31.326466Z"
    },
    "trusted": true
   },
   "outputs": [
    {
     "name": "stderr",
     "output_type": "stream",
     "text": [
      "All-NaN slice encountered\n"
     ]
    },
    {
     "data": {
      "image/png": "[encoded data removed]",
      "text/plain": [
       "<Figure size 800x910 with 2 Axes>"
      ]
     },
     "metadata": {},
     "output_type": "display_data"
    }
   ],
   "source": [
    "cat_features = [\"item_mode_age\", \"last_watch_dt\"]\n",
    "X_valid[\"last_watch_dt\"] = X_valid[\"last_watch_dt\"].astype(\"str\")\n",
    "valid_pool = Pool(data=X_valid, cat_features=cat_features)\n",
    "\n",
    "explainer = shap.TreeExplainer(catboost_model)\n",
    "shap_values = explainer.shap_values(valid_pool)\n",
    "\n",
    "shap.summary_plot(shap_values, X_valid)\n"
   ]
  },
  {
   "cell_type": "markdown",
   "metadata": {
    "id": "mtSxDR52C2QK"
   },
   "source": [
    "\n",
    "### 4 Этап. Инференс лучшего ранкера"
   ]
  },
  {
   "cell_type": "code",
   "execution_count": null,
   "metadata": {
    "execution": {
     "iopub.execute_input": "2025-04-07T19:42:17.721985Z",
     "iopub.status.busy": "2025-04-07T19:42:17.721426Z",
     "iopub.status.idle": "2025-04-07T19:42:37.208060Z",
     "shell.execute_reply": "2025-04-07T19:42:37.206782Z",
     "shell.execute_reply.started": "2025-04-07T19:42:17.721919Z"
    },
    "id": "5TuXC8BjC2QL",
    "trusted": true
   },
   "outputs": [],
   "source": [
    "train = df_train.copy()\n",
    "test = pd.read_csv('/kaggle/input/recsyshw3/test_prepr.csv')\n",
    "combined = pd.concat([train, test], ignore_index=True)\n",
    "combined = combined.sample(frac=1).reset_index(drop=True)\n"
   ]
  },
  {
   "cell_type": "code",
   "execution_count": 83,
   "metadata": {
    "execution": {
     "iopub.execute_input": "2025-04-07T19:46:35.222360Z",
     "iopub.status.busy": "2025-04-07T19:46:35.221944Z",
     "iopub.status.idle": "2025-04-07T19:53:23.812651Z",
     "shell.execute_reply": "2025-04-07T19:53:23.810735Z",
     "shell.execute_reply.started": "2025-04-07T19:46:35.222329Z"
    },
    "trusted": true
   },
   "outputs": [
    {
     "name": "stderr",
     "output_type": "stream",
     "text": [
      "Training ALS: 100%|██████████| 5/5 [06:44<00:00, 80.98s/it]\n"
     ]
    }
   ],
   "source": [
    "model = ALS(rank = 5,lambda_reg=0.01, max_epochs=5, tolerance=1e-4)\n",
    "model.fit(combined)"
   ]
  },
  {
   "cell_type": "code",
   "execution_count": null,
   "metadata": {
    "trusted": true
   },
   "outputs": [],
   "source": [
    "top_k = 5\n",
    "all_recommendations = {}\n",
    "\n",
    "for user_id in df['user_id'].unique():\n",
    "    recs =  model.recommend_topk(user_id, top_k=top_k)\n",
    "    all_recommendations[user_id] = recs\n"
   ]
  }
 ],
 "metadata": {
  "colab": {
   "collapsed_sections": [
    "f_28x0sKaIR-",
    "O-OWigeYTXXV"
   ],
   "provenance": []
  },
  "kaggle": {
   "accelerator": "none",
   "dataSources": [
    {
     "datasetId": 7066594,
     "sourceId": 11300222,
     "sourceType": "datasetVersion"
    },
    {
     "datasetId": 7077500,
     "sourceId": 11315069,
     "sourceType": "datasetVersion"
    },
    {
     "datasetId": 7077519,
     "sourceId": 11315091,
     "sourceType": "datasetVersion"
    },
    {
     "isSourceIdPinned": true,
     "modelId": 295120,
     "modelInstanceId": 274216,
     "sourceId": 326421,
     "sourceType": "modelInstanceVersion"
    }
   ],
   "dockerImageVersionId": 30918,
   "isGpuEnabled": false,
   "isInternetEnabled": false,
   "language": "python",
   "sourceType": "notebook"
  },
  "kernelspec": {
   "display_name": "Python 3",
   "language": "python",
   "name": "python3"
  },
  "language_info": {
   "codemirror_mode": {
    "name": "ipython",
    "version": 3
   },
   "file_extension": ".py",
   "mimetype": "text/x-python",
   "name": "python",
   "nbconvert_exporter": "python",
   "pygments_lexer": "ipython3",
   "version": "3.10.12"
  }
 },
 "nbformat": 4,
 "nbformat_minor": 4
}
